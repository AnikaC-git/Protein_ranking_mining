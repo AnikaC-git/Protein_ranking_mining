{
 "cells": [
  {
   "cell_type": "markdown",
   "metadata": {},
   "source": [
    "# Test extraction \n",
    "\n",
    "To test which xpath expressions are needed, here a small example of the structure alongside some code to parse it using XML tree. For this to operate on larger scale, some element deletion and iteration is needed so that not the entire XML file is loaded at once."
   ]
  },
  {
   "cell_type": "code",
   "execution_count": 1,
   "metadata": {},
   "outputs": [],
   "source": [
    "# loading required libraries\n",
    "from lxml import etree  \n",
    "from io import BytesIO"
   ]
  },
  {
   "cell_type": "code",
   "execution_count": 2,
   "metadata": {},
   "outputs": [],
   "source": [
    "# incomplete Pubmed citation taken from https://ftp.ncbi.nlm.nih.gov/pubmed/updatefiles/pubmed20n1017.xml.gz for structural investigations\n",
    "# contains all the fields that will be extracted as a first attempt\n",
    "XML_DATA = (\"\"\"<PubmedArticle>\n",
    "                <MedlineCitation Status=\"MEDLINE\" Owner=\"NLM\">\n",
    "                 <PMID Version=\"1\">18285460</PMID>\n",
    "                  <DateCompleted>\n",
    "                   <Year>2008</Year>\n",
    "                   <Month>04</Month>\n",
    "                   <Day>21</Day>\n",
    "                  </DateCompleted>\n",
    "                  <DateRevised>\n",
    "                   <Year>2019</Year>\n",
    "                   <Month>12</Month>\n",
    "                   <Day>17</Day>\n",
    "                  </DateRevised>\n",
    "                  <Article PubModel=\"Print-Electronic\">\n",
    "                   <Journal>\n",
    "                    <ISSN IssnType=\"Electronic\">1098-5549</ISSN>\n",
    "                    <JournalIssue CitedMedium=\"Internet\">\n",
    "                    <Volume>28</Volume>\n",
    "                     <Issue>8</Issue>\n",
    "                     <PubDate>\n",
    "                      <Year>2008</Year>\n",
    "                      <Month>Apr</Month>\n",
    "                     </PubDate>\n",
    "                    </JournalIssue>\n",
    "                    <Title>Molecular and cellular biology</Title>\n",
    "                    <ISOAbbreviation>Mol. Cell. Biol.</ISOAbbreviation>\n",
    "                   </Journal>\n",
    "                   <ArticleTitle>Human Rvb1/Tip49 is required for the histone acetyltransferase activity of Tip60/NuA4 and for the downregulation of phosphorylation on H2AX after DNA damage.</ArticleTitle>\n",
    "                   <Pagination>\n",
    "                    <MedlinePgn>2690-700</MedlinePgn>\n",
    "                   </Pagination>\n",
    "                   <ELocationID EIdType=\"doi\" ValidYN=\"Y\">10.1128/MCB.01983-07</ELocationID>\n",
    "                   <Abstract>\n",
    "                    <AbstractText>The role of chromatin-remodeling factors in transcription is well established, but the link between chromatin-remodeling complexes and DNA repair remains unexplored. Human Rvb1 and Rvb2 are highly conserved AAA(+) ATP binding proteins that are part of various chromatin-remodeling complexes, such as Ino80, SNF2-related CBP activator protein (SRCAP), and Tip60/NuA4 complexes, but their molecular function is unclear. The depletion of Rvb1 increases the amount and persistence of phosphorylation on chromatin-associated H2AX after the exposure of cells to UV irradiation or to mitomycin C, cisplatin, camptothecin, or etoposide, without increasing the amount of DNA damage. Tip60 depletion, but not Ino80 or SRCAP depletion, mimics the effect of Rvb1 depletion on H2AX phosphorylation. Rvb1 is required for the histone acetyltransferase (HAT) activity of the Tip60 complex, and histone H4 acetylation is required prior to the dephosphorylation of phospho-H2AX. Thus, Rvb1 is critical for the dephosphorylation of phospho-H2AX due to the role of Rvb1 in maintaining the HAT activity of Tip60/NuA4, implicating the Rvb1-Tip60 complex in the chromatin-remodeling response of cells after DNA damage.</AbstractText>\n",
    "                   </Abstract>\n",
    "                  </Article> \n",
    "                 </MedlineCitation>\n",
    "                </PubmedArticle>\"\"\").encode(encoding=\"UTF-8\")"
   ]
  },
  {
   "cell_type": "code",
   "execution_count": 3,
   "metadata": {},
   "outputs": [],
   "source": [
    "# dictionary of all the elements of interest and their respective xpaths \n",
    "elem_of_interest = {\n",
    "    'pmid': 'MedlineCitation/PMID',\n",
    "    'abstract_text': 'MedlineCitation/Article/Abstract/AbstractText',\n",
    "    'title': 'MedlineCitation/Article/ArticleTitle',\n",
    "    'journal': 'MedlineCitation/Article/Journal/Title',\n",
    "    'pub_year': 'MedlineCitation/Article/Journal/JournalIssue/PubDate/Year'\n",
    "}\n"
   ]
  },
  {
   "cell_type": "code",
   "execution_count": 4,
   "metadata": {},
   "outputs": [
    {
     "name": "stdout",
     "output_type": "stream",
     "text": [
      "pmid: 18285460 \n",
      "\n",
      "abstract_text: The role of chromatin-remodeling factors in transcription is well established, but the link between chromatin-remodeling complexes and DNA repair remains unexplored. Human Rvb1 and Rvb2 are highly conserved AAA(+) ATP binding proteins that are part of various chromatin-remodeling complexes, such as Ino80, SNF2-related CBP activator protein (SRCAP), and Tip60/NuA4 complexes, but their molecular function is unclear. The depletion of Rvb1 increases the amount and persistence of phosphorylation on chromatin-associated H2AX after the exposure of cells to UV irradiation or to mitomycin C, cisplatin, camptothecin, or etoposide, without increasing the amount of DNA damage. Tip60 depletion, but not Ino80 or SRCAP depletion, mimics the effect of Rvb1 depletion on H2AX phosphorylation. Rvb1 is required for the histone acetyltransferase (HAT) activity of the Tip60 complex, and histone H4 acetylation is required prior to the dephosphorylation of phospho-H2AX. Thus, Rvb1 is critical for the dephosphorylation of phospho-H2AX due to the role of Rvb1 in maintaining the HAT activity of Tip60/NuA4, implicating the Rvb1-Tip60 complex in the chromatin-remodeling response of cells after DNA damage. \n",
      "\n",
      "title: Human Rvb1/Tip49 is required for the histone acetyltransferase activity of Tip60/NuA4 and for the downregulation of phosphorylation on H2AX after DNA damage. \n",
      "\n",
      "journal: Molecular and cellular biology \n",
      "\n",
      "pub_year: 2008 \n",
      "\n"
     ]
    }
   ],
   "source": [
    "# parse the XML into a tree structure\n",
    "context = etree.iterparse(BytesIO(XML_DATA), events=('end',), tag=\"PubmedArticle\")\n",
    "\n",
    "# go through all the elements of interest, i.e. <PubmedArticle>s\n",
    "for event, elem in context:\n",
    "    # attempt to extract all the relevant fields for each publication\n",
    "    for key, value in elem_of_interest.items():\n",
    "        eoi = elem.xpath(value)        \n",
    "        # if there are any entries\n",
    "        if len(eoi) > 0:\n",
    "            # take the first one\n",
    "            if eoi[0].text is not None:\n",
    "                print(f\"{key}: {eoi[0].text} \\n\")\n"
   ]
  }
 ],
 "metadata": {
  "kernelspec": {
   "display_name": "Python 3",
   "language": "python",
   "name": "python3"
  },
  "language_info": {
   "codemirror_mode": {
    "name": "ipython",
    "version": 3
   },
   "file_extension": ".py",
   "mimetype": "text/x-python",
   "name": "python",
   "nbconvert_exporter": "python",
   "pygments_lexer": "ipython3",
   "version": "3.8.6"
  }
 },
 "nbformat": 4,
 "nbformat_minor": 4
}
